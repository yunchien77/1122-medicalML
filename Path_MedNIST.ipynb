{
  "nbformat": 4,
  "nbformat_minor": 0,
  "metadata": {
    "colab": {
      "provenance": [],
      "toc_visible": true
    },
    "kernelspec": {
      "name": "python3",
      "display_name": "Python 3"
    },
    "language_info": {
      "name": "python"
    },
    "accelerator": "GPU"
  },
  "cells": [
    {
      "cell_type": "markdown",
      "metadata": {
        "id": "_U90xu8uskD2"
      },
      "source": [
        "## ~匯入所有需要的套件模組"
      ]
    },
    {
      "cell_type": "code",
      "metadata": {
        "id": "K3f4WVM4gbrZ"
      },
      "source": [
        "import numpy as np\n",
        "import pandas as pd\n",
        "import matplotlib.pyplot as plt\n",
        "\n",
        "# tensorflow.keras\n",
        "import tensorflow as tf\n",
        "print(\"Tensorflow version =\", tf.__version__)\n",
        "from tensorflow.keras.models import Model, Sequential, load_model\n",
        "from tensorflow.keras import initializers, regularizers, optimizers, layers\n",
        "from tensorflow.keras.utils import to_categorical, plot_model\n",
        "from tensorflow.keras import backend as K"
      ],
      "execution_count": null,
      "outputs": []
    },
    {
      "cell_type": "markdown",
      "metadata": {
        "id": "sr0YFC7chSVn"
      },
      "source": [
        "# 準備資料集"
      ]
    },
    {
      "cell_type": "code",
      "metadata": {
        "id": "t2cJNnT_myJg"
      },
      "source": [
        "#@title 下載並解壓縮 MedNIST 資料\n",
        "#@markdown 來源: https://medmnist.github.io/\n",
        "!pip install -q --upgrade --no-cache-dir gdown\n",
        "!gdown --id 1Jcrw4sN3V1GWPy2gAIjopvs6HDVvGiz2  # MedNIST.zip\n",
        "!unzip -n -q 'MedNIST.zip' -d 'MedNIST'\n",
        "print(\"... done\")"
      ],
      "execution_count": null,
      "outputs": []
    },
    {
      "cell_type": "code",
      "metadata": {
        "id": "OU0QT-ygonBh"
      },
      "source": [
        "# 一個 npz 裏面包含了多個 npy(numpy array 的存檔)\n",
        "# open a npz file of MedNIST\n",
        "data = np.load('MedNIST/pathmnist.npz')  # 選一個資料集項目\n",
        "npy_file_lst = data.files\n",
        "for npy in npy_file_lst:\n",
        "    print(npy)\n",
        "    # print(data[npy])"
      ],
      "execution_count": null,
      "outputs": []
    },
    {
      "cell_type": "code",
      "metadata": {
        "id": "R8AsDv4dx7ZR"
      },
      "source": [
        "# 準備 image 和 label 的 numpy array\n",
        "# images\n",
        "train_images_arr = data['train_images']\n",
        "valid_images_arr = data['val_images']\n",
        "test_images_arr = data['test_images']\n",
        "# labels\n",
        "train_labels_arr = data['train_labels']\n",
        "valid_labels_arr = data['val_labels']\n",
        "test_labels_arr = data['test_labels']\n",
        "\n",
        "print(\"train_images_arr:\", train_images_arr.shape, train_images_arr.dtype, \"\\ttrain_labels_arr:\", train_labels_arr.shape, train_labels_arr.dtype)\n",
        "print(\"valid_images_arr:\", valid_images_arr.shape, valid_images_arr.dtype, \"\\tvalid_labels_arr:\", valid_labels_arr.shape, valid_labels_arr.dtype)\n",
        "print(\"test_images_arr:\", test_images_arr.shape, test_images_arr.dtype, \"\\ttest_labels_arr:\", test_labels_arr.shape, test_labels_arr.dtype)"
      ],
      "execution_count": null,
      "outputs": []
    },
    {
      "cell_type": "markdown",
      "metadata": {
        "id": "-A3IZ6Xz8UI9"
      },
      "source": [
        "## 標記分析"
      ]
    },
    {
      "cell_type": "code",
      "metadata": {
        "id": "VbJNfQmN8erw"
      },
      "source": [
        "all_labels = np.concatenate([train_labels_arr, valid_labels_arr, test_labels_arr], axis=0)\n",
        "print(\"有這些標記:\", np.unique(all_labels))"
      ],
      "execution_count": null,
      "outputs": []
    },
    {
      "cell_type": "code",
      "metadata": {
        "id": "Yy8oX-HL9k66"
      },
      "source": [
        "# 各標記的數量\n",
        "label_counts = [len(all_labels==i) for i in np.unique(all_labels)]\n",
        "label_counts"
      ],
      "execution_count": null,
      "outputs": []
    },
    {
      "cell_type": "code",
      "metadata": {
        "id": "k5sxUYFy9qeZ"
      },
      "source": [
        "# 各標記數量 畫成 圓餅圖(pie chart)\n",
        "plt.pie(label_counts, labels=np.unique(all_labels), autopct='%1.1f%%')\n",
        "plt.show()"
      ],
      "execution_count": null,
      "outputs": []
    },
    {
      "cell_type": "markdown",
      "metadata": {
        "id": "pMtyQ1k68fQW"
      },
      "source": [
        "## 資料集準備"
      ]
    },
    {
      "cell_type": "code",
      "metadata": {
        "id": "15c0bpCI0tjA"
      },
      "source": [
        "# 處理 label 為 one-hot encoding (獨熱編碼)\n",
        "# https://www.tensorflow.org/api_docs/python/tf/keras/utils/to_categorical\n",
        "# PathMNIST\t是9個分類\n",
        "CLASSES = ['ADI', 'BACK', 'DEB', 'LYM', 'MUC', 'MUS', 'NORM', 'STR', 'TUM']\n",
        "train_labels_onehot =  to_categorical(train_labels_arr, num_classes=len(CLASSES), dtype='uint8')\n",
        "valid_labels_onehot =  to_categorical(valid_labels_arr, num_classes=len(CLASSES), dtype='uint8')\n",
        "test_labels_onehot =  to_categorical(test_labels_arr, num_classes=len(CLASSES), dtype='uint8')\n",
        "\n",
        "print(\"原本的標註長這樣:\", train_labels_arr[:10].tolist())\n",
        "print(\"獨熱的標註長這樣:\", train_labels_onehot[:10].tolist())\n",
        "print(\"train_labels_onehot:\", train_labels_onehot.shape, train_labels_onehot.dtype)\n",
        "print(\"valid_labels_onehot:\", valid_labels_onehot.shape, valid_labels_onehot.dtype)\n",
        "print(\"test_labels_onehot:\", test_labels_onehot.shape, test_labels_onehot.dtype)"
      ],
      "execution_count": null,
      "outputs": []
    },
    {
      "cell_type": "code",
      "metadata": {
        "id": "ha5t_OrR1pBY"
      },
      "source": [
        "# 隨機顯示一張圖片 和 它的標註\n",
        "i = np.random.randint(100)  # 隨機一個整數 0-100\n",
        "plt.imshow(train_images_arr[i])\n",
        "plt.title(f\"{train_labels_arr[i,0]}: {CLASSES[train_labels_arr[i,0]]}\")\n",
        "plt.show()"
      ],
      "execution_count": null,
      "outputs": []
    },
    {
      "cell_type": "markdown",
      "metadata": {
        "id": "JCfDweCTJyWk"
      },
      "source": [
        "# 模型 model design"
      ]
    },
    {
      "cell_type": "code",
      "metadata": {
        "id": "Um4hJYXo4ZqH"
      },
      "source": [
        "# 利用 \"Sequential\" 把每層 layer 疊起來\n",
        "# input 大小為 28 x 28 x 3\n",
        "\n",
        "# 最後的 Dense(9) 且 activation 用 softmax\n",
        "# 代表最後 output 為 9個class（0~8）的機率\n",
        "\n",
        "model = Sequential([\n",
        "    layers.Input(shape=(28,28,3)),\n",
        "    layers.Conv2D(32, (3,3), activation='relu'),\n",
        "    layers.GlobalAveragePooling2D(),\n",
        "    layers.Dense(32, activation='relu'),\n",
        "    layers.Dense(9, activation='softmax')\n",
        "])\n",
        "\n",
        "# model每層定義好後需要經過compile\n",
        "model.compile(optimizer='adam',\n",
        "              loss='categorical_crossentropy',\n",
        "              metrics=['accuracy'])\n",
        "# 看看設計架構\n",
        "model.summary()"
      ],
      "execution_count": null,
      "outputs": []
    },
    {
      "cell_type": "code",
      "metadata": {
        "id": "hGGDmixqLpEv"
      },
      "source": [
        "# 看看設計架構\n",
        "plot_model(model, show_shapes=True, show_dtype=True, show_layer_names=True)"
      ],
      "execution_count": null,
      "outputs": []
    },
    {
      "cell_type": "markdown",
      "metadata": {
        "id": "CJe-g1x3MNek"
      },
      "source": [
        "# 訓練 training"
      ]
    },
    {
      "cell_type": "code",
      "metadata": {
        "id": "wNE_66HIMCru"
      },
      "source": [
        "# training  https://www.tensorflow.org/api_docs/python/tf/keras/Model#fit\n",
        "BATCH_SIZE = 32\n",
        "EPOCH = 5\n",
        "\n",
        "history = model.fit(train_images_arr, train_labels_onehot,  # < 訓練集\n",
        "                    batch_size=BATCH_SIZE,\n",
        "                    epochs=EPOCH,\n",
        "                    validation_data=(valid_images_arr, valid_labels_onehot),\n",
        "                    )"
      ],
      "execution_count": null,
      "outputs": []
    },
    {
      "cell_type": "code",
      "metadata": {
        "id": "-p3FWR-zN26T",
        "cellView": "form"
      },
      "source": [
        "#@title 訓練曲線\n",
        "# Training history visualization\n",
        "fig, (ax1, ax2) = plt.subplots(2, 1, figsize=(6,12))\n",
        "\n",
        "# Plot training & validation accuracy values\n",
        "ax1.plot(history.history['accuracy'])\n",
        "ax1.plot(history.history['val_accuracy'])\n",
        "ax1.set_title('Accuracy')\n",
        "ax1.set(ylabel='Accuracy', xlabel='Epoch')\n",
        "ax1.legend(['Train', 'Valid'], loc='upper left')\n",
        "\n",
        "# Plot training & validation loss values\n",
        "ax2.plot(history.history['loss'])\n",
        "ax2.plot(history.history['val_loss'])\n",
        "ax2.set_title('Model loss')\n",
        "ax2.set(ylabel='Loss', xlabel='Epoch')\n",
        "ax2.legend(['Train', 'Valid'], loc='upper right')\n",
        "\n",
        "# plt.savefig('train_history.png', dpi=96)  # <-- save plot\n",
        "plt.show()"
      ],
      "execution_count": null,
      "outputs": []
    },
    {
      "cell_type": "markdown",
      "metadata": {
        "id": "w-KNR74HRosl"
      },
      "source": [
        "# 評估 Evaluation"
      ]
    },
    {
      "cell_type": "code",
      "metadata": {
        "id": "K3q-TQSERzv-"
      },
      "source": [
        "# evaluate validation dataset\n",
        "model.evaluate(valid_images_arr, valid_labels_onehot, verbose=2)"
      ],
      "execution_count": null,
      "outputs": []
    },
    {
      "cell_type": "markdown",
      "metadata": {
        "id": "7u7flRSbQNcl"
      },
      "source": [
        "# 預測 predict"
      ]
    },
    {
      "cell_type": "code",
      "metadata": {
        "id": "Ssk6R21rQ1NI"
      },
      "source": [
        "y_pred = model.predict(test_images_arr,\n",
        "                       batch_size=BATCH_SIZE,\n",
        "                       verbose=1)\n",
        "print(\"y_pred:\", y_pred.shape, y_pred.dtype)"
      ],
      "execution_count": null,
      "outputs": []
    },
    {
      "cell_type": "code",
      "metadata": {
        "id": "4ykBPfLDnILP"
      },
      "source": [
        "# 轉換為預測類別\n",
        "y_pred_class = np.argmax(y_pred, axis=1)\n",
        "print(\"y_pred_class:\", y_pred_class.shape, y_pred_class.dtype)"
      ],
      "execution_count": null,
      "outputs": []
    },
    {
      "cell_type": "code",
      "metadata": {
        "id": "eOFZpDN9RVhA"
      },
      "source": [
        "# 隨機選一張 測試圖片 並 顯示 原始與預測的結果\n",
        "i = np.random.randint(test_images_arr.shape[0])\n",
        "\n",
        "# plot\n",
        "plt.imshow(test_images_arr[i])\n",
        "plt.title(f\"GroundTrue:{test_labels_arr[i,0]} {CLASSES[test_labels_arr[i,0]]}  |  Predict:{y_pred_class[i]} {CLASSES[y_pred_class[i]]}\")\n",
        "plt.show()"
      ],
      "execution_count": null,
      "outputs": []
    },
    {
      "cell_type": "code",
      "metadata": {
        "id": "N9WD5yErmtye"
      },
      "source": [],
      "execution_count": null,
      "outputs": []
    }
  ]
}