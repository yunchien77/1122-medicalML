{
  "nbformat": 4,
  "nbformat_minor": 0,
  "metadata": {
    "colab": {
      "provenance": [],
      "toc_visible": true
    },
    "kernelspec": {
      "name": "python3",
      "display_name": "Python 3"
    },
    "accelerator": "GPU"
  },
  "cells": [
    {
      "cell_type": "markdown",
      "metadata": {
        "id": "BfEO03uG3JEz"
      },
      "source": [
        "mount your Google Drive:"
      ]
    },
    {
      "cell_type": "code",
      "metadata": {
        "id": "J7AcLpBhB3Ih",
        "outputId": "d6aaadbf-9e6f-4896-dd64-3fd2f089012b",
        "colab": {
          "base_uri": "https://localhost:8080/",
          "height": 122
        }
      },
      "source": [
        "from google.colab import drive\n",
        "drive.mount('/content/gdrive')"
      ],
      "execution_count": null,
      "outputs": [
        {
          "output_type": "stream",
          "text": [
            "Go to this URL in a browser: https://accounts.google.com/o/oauth2/auth?client_id=947318989803-6bn6qk8qdgf4n4g3pfee6491hc0brc4i.apps.googleusercontent.com&redirect_uri=urn%3Aietf%3Awg%3Aoauth%3A2.0%3Aoob&scope=email%20https%3A%2F%2Fwww.googleapis.com%2Fauth%2Fdocs.test%20https%3A%2F%2Fwww.googleapis.com%2Fauth%2Fdrive%20https%3A%2F%2Fwww.googleapis.com%2Fauth%2Fdrive.photos.readonly%20https%3A%2F%2Fwww.googleapis.com%2Fauth%2Fpeopleapi.readonly&response_type=code\n",
            "\n",
            "Enter your authorization code:\n",
            "··········\n",
            "Mounted at /content/gdrive\n"
          ],
          "name": "stdout"
        }
      ]
    },
    {
      "cell_type": "markdown",
      "metadata": {
        "id": "VQCxyCMCC258"
      },
      "source": [
        "了解目前程式所在的路徑位置"
      ]
    },
    {
      "cell_type": "code",
      "metadata": {
        "id": "3PiwiA49CPTI",
        "outputId": "65bfb30a-f242-459f-977a-f77d791a332c",
        "colab": {
          "base_uri": "https://localhost:8080/",
          "height": 34
        }
      },
      "source": [
        "import os\n",
        "os.getcwd()"
      ],
      "execution_count": null,
      "outputs": [
        {
          "output_type": "execute_result",
          "data": {
            "text/plain": [
              "'/content'"
            ]
          },
          "metadata": {
            "tags": []
          },
          "execution_count": 2
        }
      ]
    },
    {
      "cell_type": "markdown",
      "metadata": {
        "id": "LZto35-WC8iW"
      },
      "source": [
        "試著產生一個檔案到你的 google drive 中"
      ]
    },
    {
      "cell_type": "code",
      "metadata": {
        "id": "UfdhQU1hB32Z",
        "outputId": "9892d74e-0601-41fe-9583-b331805e5954",
        "colab": {
          "base_uri": "https://localhost:8080/",
          "height": 34
        }
      },
      "source": [
        "# Create a test file\n",
        "with open('/content/gdrive/My Drive/test.txt', 'w') as f:\n",
        "  f.write('my sample file')\n",
        "\n",
        "print('/gdrive/My Drive/test.txt contains:')"
      ],
      "execution_count": null,
      "outputs": [
        {
          "output_type": "stream",
          "text": [
            "/gdrive/My Drive/test.txt contains:\n"
          ],
          "name": "stdout"
        }
      ]
    },
    {
      "cell_type": "code",
      "metadata": {
        "id": "ioWqLb-8De9j"
      },
      "source": [
        "content/gdrive/My Drive/download.jpg"
      ],
      "execution_count": null,
      "outputs": []
    }
  ]
}