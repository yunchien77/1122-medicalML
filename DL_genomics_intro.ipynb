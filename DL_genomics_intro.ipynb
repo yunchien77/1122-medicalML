{
  "nbformat": 4,
  "nbformat_minor": 0,
  "metadata": {
    "colab": {
      "provenance": [],
      "toc_visible": true
    },
    "kernelspec": {
      "name": "python3",
      "display_name": "Python 3"
    }
  },
  "cells": [
    {
      "cell_type": "markdown",
      "metadata": {
        "id": "view-in-github"
      },
      "source": [
        "<a href=\"https://colab.research.google.com/github/rschwess/tutorial_dl_for_genomics/blob/master/Colab_DL_genomics_intro.ipynb\" target=\"_parent\"><img src=\"https://colab.research.google.com/assets/colab-badge.svg\" alt=\"Open In Colab\"/></a>"
      ]
    },
    {
      "cell_type": "markdown",
      "metadata": {
        "id": "59DLQSAO7PBm"
      },
      "source": [
        "# Tutorial - Deep Learning for Genomics\n",
        "\n",
        "\n",
        "\n",
        "In this tutorial we will use a convolutional neuronal network to address a fairly basic but common problem in genomics. Given a set of sequences belonging to different classes, what are the characteristics in the DNA sequence that let us distinguish the classes. For example, given a set of promoter and enhancer sequences, we could ask if there are any patterns in the DNA that let us distinguish between the two.\n",
        "\n",
        "For a 'simple' example, think of two ChIP-seq experiments for two different transcription factors. After analysing the ChIP-seq data, we know at what positions in the genome the two factors bind and the majority of binding sites might be distinct. If we extract the underlying sequences and search for DNA patterns that are enriched in the respective sets, we get an idea what DNA sequences the transcription factor might bind and/or which co-factors influence their binding.\n",
        "\n",
        "Traditionally, people use motif discovery tools for finding overrepresented words and motifs. However, if we move to slightly more complicated questions these methods quickly reach their limits and machine learning approaches become more promising.\n",
        "\n",
        "A more complicated question: If we have multiple sets of enhancers that are active in different tissues and cell types and we have the underlying sequences, can we figure out what sequence patterns are characteristic for what activity? And once we know that can we infer which factors are common and which are tissue specific?\n",
        "\n",
        "For our test dataset we have a simplfied, simulated version of such a task. We simulated 40,000 DNA sequences of length 200 bp. We split them into 4 enhancer classes and populated them with transcription factor binding motifs and other DNA patters to make them distinguishable. However, some motifs are shared between classes, they may overlap each other and are not necessarily perfect matches to the text book motifs. Thats much more how regulatory DNA actually looks like :)!\n",
        "\n",
        "We will use keras to build and train a small convolutional neuronal network to classify our enhancer sequences. Once this network is trained well, we can than investigate how the network has learned to distinguish between the classes and try to relate this back to transcriptions factor motifs and so on.\n",
        "\n",
        "------------\n",
        "\n",
        "You can run the tutorial in this colab notebook or checkout (and clone) the github repository (https://github.com/rschwess/tutorial_dl_for_genomics). From there you can either run everything in an interactive python or ipython session or (especially later when optimizing) just adjust and run python dl_intro.py in the terminal.\n",
        "\n",
        "----------------\n",
        "\n",
        "## Set up\n",
        "\n",
        "We will start by downloading the tutorial data. There are more data available on github if you want to work on a slightly more difficult set."
      ]
    },
    {
      "cell_type": "code",
      "metadata": {
        "id": "68wKlyer7Hti",
        "outputId": "6fecea7a-1664-4772-a52c-a9c676d10481",
        "colab": {
          "base_uri": "https://localhost:8080/"
        }
      },
      "source": [
        "%%bash\n",
        "\n",
        "# Download Example Data --------------------------------------------------------\n",
        "\n",
        "rm -rf ./sample_data/\n",
        "\n",
        "mkdir -p data\n",
        "\n",
        "rm -f ./data/*\n",
        "\n",
        "curl https://raw.githubusercontent.com/rschwess/tutorial_dl_for_genomics/master/data/pwm_seq_200bp_test_set.txt >./data/pwm_seq_200bp_test_set.txt\n",
        "curl https://raw.githubusercontent.com/rschwess/tutorial_dl_for_genomics/master/data/pwm_seq_200bp_valid_set.txt >./data/pwm_seq_200bp_valid_set.txt\n",
        "curl https://raw.githubusercontent.com/rschwess/tutorial_dl_for_genomics/master/data/pwm_seq_200bp_train_set.txt >./data/pwm_seq_200bp_train_set.txt\n"
      ],
      "execution_count": 1,
      "outputs": [
        {
          "output_type": "stream",
          "name": "stderr",
          "text": [
            "  % Total    % Received % Xferd  Average Speed   Time    Time     Time  Current\n",
            "                                 Dload  Upload   Total   Spent    Left  Speed\n",
            "\r  0     0    0     0    0     0      0      0 --:--:-- --:--:-- --:--:--     0\r100  198k  100  198k    0     0   741k      0 --:--:-- --:--:-- --:--:--  742k\n",
            "  % Total    % Received % Xferd  Average Speed   Time    Time     Time  Current\n",
            "                                 Dload  Upload   Total   Spent    Left  Speed\n",
            "\r  0     0    0     0    0     0      0      0 --:--:-- --:--:-- --:--:--     0\r  0     0    0     0    0     0      0      0 --:--:-- --:--:-- --:--:--     0\r100  198k  100  198k    0     0   662k      0 --:--:-- --:--:-- --:--:--  660k\n",
            "  % Total    % Received % Xferd  Average Speed   Time    Time     Time  Current\n",
            "                                 Dload  Upload   Total   Spent    Left  Speed\n",
            "\r  0     0    0     0    0     0      0      0 --:--:-- --:--:-- --:--:--     0\r100 7533k  100 7533k    0     0  9738k      0 --:--:-- --:--:-- --:--:-- 9745k\n"
          ]
        }
      ]
    },
    {
      "cell_type": "code",
      "metadata": {
        "id": "bnkSDL5RY1ci",
        "outputId": "029d016f-9287-41a4-941b-e79bbbda8bed",
        "colab": {
          "base_uri": "https://localhost:8080/"
        }
      },
      "source": [
        "%%bash\n",
        "\n",
        "# Create some directories and download helper scripts for later ----------------\n",
        "mkdir -p helper visualize\n",
        "\n",
        "curl https://raw.githubusercontent.com/rschwess/tutorial_dl_for_genomics/master/helper/functions_for_motif_plotting.R >./helper/functions_for_motif_plotting.R\n",
        "curl https://raw.githubusercontent.com/rschwess/tutorial_dl_for_genomics/master/helper/plot_sequence_kernel_weights_per_dir.R >./helper/plot_sequence_kernel_weights_per_dir.R\n",
        "curl https://raw.githubusercontent.com/rschwess/tutorial_dl_for_genomics/master/helper/plot_sequence_kernel_icms_per_dir.R >./helper/plot_sequence_kernel_icms_per_dir.R\n"
      ],
      "execution_count": 2,
      "outputs": [
        {
          "output_type": "stream",
          "name": "stderr",
          "text": [
            "  % Total    % Received % Xferd  Average Speed   Time    Time     Time  Current\n",
            "                                 Dload  Upload   Total   Spent    Left  Speed\n",
            "\r  0     0    0     0    0     0      0      0 --:--:-- --:--:-- --:--:--     0\r  0     0    0     0    0     0      0      0 --:--:-- --:--:-- --:--:--     0\r100 18139  100 18139    0     0  80669      0 --:--:-- --:--:-- --:--:-- 80617\n",
            "  % Total    % Received % Xferd  Average Speed   Time    Time     Time  Current\n",
            "                                 Dload  Upload   Total   Spent    Left  Speed\n",
            "\r  0     0    0     0    0     0      0      0 --:--:-- --:--:-- --:--:--     0\r100  1512  100  1512    0     0   5915      0 --:--:-- --:--:-- --:--:--  5929\n",
            "  % Total    % Received % Xferd  Average Speed   Time    Time     Time  Current\n",
            "                                 Dload  Upload   Total   Spent    Left  Speed\n",
            "\r  0     0    0     0    0     0      0      0 --:--:-- --:--:-- --:--:--     0\r100  1510  100  1510    0     0   5960      0 --:--:-- --:--:-- --:--:--  5968\n"
          ]
        }
      ]
    },
    {
      "cell_type": "markdown",
      "metadata": {
        "id": "-7YlfP_RIPUd"
      },
      "source": [
        "Lets start by looking at the data. We have 40,000 sequences and they are all labeled with their respective class. We already split them up into taining, test and validation set. It is also a good idea to check if our classes are roughly equally distributed across our different sets."
      ]
    },
    {
      "cell_type": "code",
      "metadata": {
        "id": "2xI_e2JEIPhX",
        "outputId": "4d3424fd-2d17-42a7-8eb6-68ffaea3cf0a",
        "colab": {
          "base_uri": "https://localhost:8080/"
        }
      },
      "source": [
        "%%bash\n",
        "\n",
        "# Check Data Layout ###########################\n",
        "\n",
        "# check lines per set\n",
        "echo \"Numbers:\"\n",
        "wc -l ./data/pwm*\n",
        "\n",
        "# check data format\n",
        "echo -ne \"\\nFormat\\n\"\n",
        "head -n 3 ./data/pwm_seq_200bp_test_set.txt\n",
        "\n",
        "# check class representation\n",
        "echo -ne \"\\nClass Representations:\\n\"\n",
        "\n",
        "echo -ne \"\\nTraining:\\n\"\n",
        "cut -f 1 ./data/pwm_seq_200bp_train_set.txt | sort | uniq -c\n",
        "echo -ne \"\\nTest:\\n\"\n",
        "cut -f 1 ./data/pwm_seq_200bp_test_set.txt | sort | uniq -c\n",
        "echo -ne \"\\nValidation:\\n\"\n",
        "cut -f 1 ./data/pwm_seq_200bp_valid_set.txt | sort | uniq -c\n",
        "\n"
      ],
      "execution_count": 3,
      "outputs": [
        {
          "output_type": "stream",
          "name": "stdout",
          "text": [
            "Numbers:\n",
            "   1000 ./data/pwm_seq_200bp_test_set.txt\n",
            "  38000 ./data/pwm_seq_200bp_train_set.txt\n",
            "   1000 ./data/pwm_seq_200bp_valid_set.txt\n",
            "  40000 total\n",
            "\n",
            "Format\n",
            "3\tATGGCTGATAATGACGATTGTACAGATGGTGGATGAGATTGCCTCGTCCCGGCAGCATTACCCCCTGGTGGCAACGGCCACCAGGGGGCAATAAATCTGTGTCTTATCTCCGAGACCAAACAATTCCACAGCCTCTTATACAGCACCGAATGGACCGCCCCCTGGTGGCCAGGTATCGTCGAGGGCTCAATTAAACTCCT\n",
            "1\tGCAGGCATTATGAGGTAATAAACTCAGCGCGTGTTGAGATAAGATTCTAAGCGGCGCGCGCGCGCGACCGCGAGAAGTGGAGATTAAGCGCGCTAATGGTGTGTCCGATAGTCACGTGTCCGCGCGGCGCGCGCCATGTATGTTCTGTTCTGCGCGCCGCGCTTTGCGCGCGCGCTTGGTATATAAAGCTGGGTTTTAAT\n",
            "1\tGGCGCGCCTGGCATTTCTTAGAGAGGCGCGCAATACAACGAGAATCACCTAGAAGCCGTGTCTGTTGCTTATCACCGTTCGCCTAGGCCGCACGGGCACGTGGGTCTCCCGTTCCCTCAATCCTAACAGAAGCGCGCTAAGTCGTCGTTGGCTCTCTTACTAGCAGCGCGCCTGTACTAACCCGGCACTCGGCGGTGGGC\n",
            "\n",
            "Class Representations:\n",
            "\n",
            "Training:\n",
            "   9489 0\n",
            "   9513 1\n",
            "   9508 2\n",
            "   9490 3\n",
            "\n",
            "Test:\n",
            "    268 0\n",
            "    237 1\n",
            "    243 2\n",
            "    252 3\n",
            "\n",
            "Validation:\n",
            "    243 0\n",
            "    250 1\n",
            "    249 2\n",
            "    258 3\n"
          ]
        }
      ]
    },
    {
      "cell_type": "markdown",
      "metadata": {
        "id": "lpkUq8kjKv8s"
      },
      "source": [
        "\n",
        "Looks good, lets move straight in! We will use keras with tensorflow as its backend. Keras is ideal for quickly writing down and prototyping networks in just a few lines of code. The documentation site will be usefull throught the tutorial https://keras.io/.\n",
        "\n",
        "We import keras and the relevant layers and operations we need.\n"
      ]
    },
    {
      "cell_type": "code",
      "metadata": {
        "id": "2XjUxMEwKwMp"
      },
      "source": [
        "# IMPORTING MODULES\n",
        "from tensorflow import keras\n",
        "from tensorflow.keras.layers import Conv1D, Dense, MaxPooling1D, Flatten\n",
        "from tensorflow.keras.models import Sequential\n",
        "import numpy as np\n",
        "import os\n",
        "import matplotlib.pyplot as plt"
      ],
      "execution_count": 6,
      "outputs": []
    },
    {
      "cell_type": "markdown",
      "metadata": {
        "id": "OCzDfI2mK898"
      },
      "source": [
        "I wrote two helper functions to convert the sequences into hot encoded sequences and a wrapper to read in and assemble the data. Feel free to skip over this but you might want to have a quick look and understand how we format the data. The hot encoding transforms the sequence into an X x 4 array whith rows corresponding to the sequence position and the columns representing the 4 DNA bases. The respective base column that matches the sequence at that position is 1 the rest 0.\n"
      ]
    },
    {
      "cell_type": "code",
      "metadata": {
        "id": "XnubGHyAK9IA"
      },
      "source": [
        "# Helper Function  get hotcoded sequence\n",
        "def get_hot_coded_seq(sequence):\n",
        "    \"\"\"Convert a 4 base letter sequence to 4-row x-cols hot coded sequence\"\"\"\n",
        "    # initialise empty\n",
        "    hotsequence = np.zeros((len(sequence),4))\n",
        "    # set hot code 1 according to gathered sequence\n",
        "    for i in range(len(sequence)):\n",
        "        if sequence[i] == 'A':\n",
        "            hotsequence[i,0] = 1\n",
        "        elif sequence[i] == 'C':\n",
        "            hotsequence[i,1] = 1\n",
        "        elif sequence[i] == 'G':\n",
        "            hotsequence[i,2] = 1\n",
        "        elif sequence[i] == 'T':\n",
        "            hotsequence[i,3] = 1\n",
        "    # return the numpy array\n",
        "    return hotsequence\n",
        "\n",
        "# Helper function to read in the labels and seqs and store as hot encoded np array\n",
        "def read_data(infile):\n",
        "    # read file in\n",
        "    with open(infile, \"r\") as f:\n",
        "        seqs = []\n",
        "        labels = []\n",
        "        for i,l in enumerate(f):\n",
        "            l = l.rstrip()\n",
        "            l = l.split(\"\\t\")\n",
        "            seqs.append(l[1])\n",
        "            labels.append(l[0])\n",
        "    # make labels np.array\n",
        "    labels = np.array(labels)\n",
        "    # convert to one_hot_labels\n",
        "    hot_labels = keras.utils.to_categorical(labels, num_classes=4)\n",
        "    # make seqs np.array\n",
        "    hot_seqs = np.zeros( (len(seqs), 200, 4) )\n",
        "    # fill with hot encoded sequences\n",
        "    for j in range(len(seqs)):\n",
        "        hotsequence = get_hot_coded_seq(seqs[j])\n",
        "        hot_seqs[j,] = hotsequence\n",
        "    return hot_labels, hot_seqs\n",
        "\n"
      ],
      "execution_count": 7,
      "outputs": []
    },
    {
      "cell_type": "markdown",
      "metadata": {
        "id": "l8J-AlxKLLSf"
      },
      "source": [
        "Now we can read in the data.\n"
      ]
    },
    {
      "cell_type": "code",
      "metadata": {
        "id": "FRT4zlKdLOlk"
      },
      "source": [
        "# read data --------------------------------------------------------------------\n",
        "train_file = \"./data/pwm_seq_200bp_train_set.txt\"\n",
        "train_labels, train_seqs = read_data(train_file)\n",
        "valid_file = \"./data/pwm_seq_200bp_valid_set.txt\"\n",
        "valid_labels, valid_seqs = read_data(valid_file)"
      ],
      "execution_count": 8,
      "outputs": []
    },
    {
      "cell_type": "markdown",
      "metadata": {
        "id": "EKscmL-6LUWo"
      },
      "source": [
        "Lets check how the data looks like after we read it into python and hot encoded it."
      ]
    },
    {
      "cell_type": "code",
      "metadata": {
        "id": "r0ajVoy3LTy4",
        "outputId": "c836a73f-2eee-4f95-cda3-c5cf0f8b9005",
        "colab": {
          "base_uri": "https://localhost:8080/"
        }
      },
      "source": [
        "# Check Data in Python ---------------------------------------------------------\n",
        "\n",
        "# check shapes\n",
        "print(\"Train Seq Shape\", train_seqs.shape)\n",
        "print(\"Train Label Shape\", train_labels.shape)\n",
        "\n",
        "# check data format\n",
        "print(\"Labels Format:\")\n",
        "print(train_labels[1:5])\n",
        "print(\"Seq Format (first 10 bp):\")\n",
        "print(train_seqs[1, 1:10,:])"
      ],
      "execution_count": 9,
      "outputs": [
        {
          "output_type": "stream",
          "name": "stdout",
          "text": [
            "Train Seq Shape (38000, 200, 4)\n",
            "Train Label Shape (38000, 4)\n",
            "Labels Format:\n",
            "[[1. 0. 0. 0.]\n",
            " [0. 0. 1. 0.]\n",
            " [0. 1. 0. 0.]\n",
            " [0. 0. 0. 1.]]\n",
            "Seq Format (first 10 bp):\n",
            "[[0. 0. 0. 1.]\n",
            " [0. 0. 0. 1.]\n",
            " [0. 0. 1. 0.]\n",
            " [0. 1. 0. 0.]\n",
            " [0. 0. 1. 0.]\n",
            " [0. 1. 0. 0.]\n",
            " [0. 0. 1. 0.]\n",
            " [0. 1. 0. 0.]\n",
            " [0. 1. 0. 0.]]\n"
          ]
        }
      ]
    },
    {
      "cell_type": "markdown",
      "metadata": {
        "id": "itcX25I4L6Gb"
      },
      "source": [
        "\n",
        "The labels have a one hot encoding where every column represents a different class and in this case only one class can be active at a time.\n",
        "\n",
        "The sequences have shape [sample x sequence_length x base]. We encod the 4 DNA bases as \"channels\" a term borrowed from image analysis you will encounter a lot when working with tensorlfow. For comparison a set of 2D images would have the dimensions [sample x pixel_rows x pixel_columns x colour_channels]. A grey scale picture would have only one channel while RGB images have three. We can thus think of our sequence as a 1D image with 4 channels."
      ]
    },
    {
      "cell_type": "markdown",
      "metadata": {
        "id": "-if6bqKaSE1x"
      },
      "source": [
        "## Building the Network\n",
        "\n",
        "We now define our network. We first set some global and network architecture options and put them all together in the keras sequential mode. The sequential mode is an easy wrapper for linearly stacked networks that makes your code even more concise. We just define the model to be sequential and than add/stack layer after layer. Here we use a simple convolutional architecture.\n",
        "\n",
        "* Our first layer is a 1D convolution over the input:\n",
        "  * We use a 1D convolution because we only want the filter to move along the sequence axis and map the channels to the hidden units.\n",
        "  * We start with 10 hidden units or filters or kernels which are all of length 5 (bp)\n",
        "  * We use the RELU activation function\n",
        "  * We also define the input shape and how to pad the input if necessary (see doc.)\n",
        "* We next perform max pooling where we take the maximum of a window of 5 consecutive activation values\n",
        "  * This reduces the data dimension, thus simplifying the model and speeding up further computations\n",
        "  * But it also enforces some extend of positional invariance into our model. For example, if we have a match to transcription factor motif in our sequence, we don't necessarily care where exactly this motif lies and a few bp up- or downstream shouldn't make a difference to our predictions.\n",
        "* We then \"Flatten\" the activation values to a 1 dimensional vector\n",
        "* And apply a fully connected or \"Dense\" layer connecting every value in the 1D vector to every class prediction\n",
        "  * We use the sigmoid (softmax) activation function to perform effectively a multinomial logistic regression\n",
        "\n",
        "The number of hidden units, the size of the kernel, the pooling size, but also the number and types of layers we use in the network are usually called hyperparameters. The most work in DL usually comes down to finding the right hyperparameters that let our network training converge and that give us the best possible (at least the best we are able to find) accuracies.\n",
        "\n",
        "We set some reasonable choices to begin with. But your task will be to play with these hyperparameters and see how well you can tune the model with a few adjustments."
      ]
    },
    {
      "cell_type": "code",
      "metadata": {
        "id": "L3eVN0jEL5Ev"
      },
      "source": [
        "# Define the Model Architecture ------------------------------------------------\n",
        "# global options\n",
        "num_classes = 4\n",
        "\n",
        "# network architecture options\n",
        "conv1_hidden_units = 10\n",
        "conv1_filter_size = 5\n",
        "maxpool1_width = 5\n",
        "\n",
        "# construct the model ----------------------------------------------------------\n",
        "model = Sequential()\n",
        "model.add(Conv1D(conv1_hidden_units, kernel_size=(conv1_filter_size), activation='relu', input_shape=(200, 4), padding='same'))\n",
        "model.add(MaxPooling1D(pool_size=maxpool1_width))\n",
        "model.add(Flatten())\n",
        "model.add(Dense(num_classes, activation='softmax'))"
      ],
      "execution_count": 10,
      "outputs": []
    },
    {
      "cell_type": "markdown",
      "metadata": {
        "id": "IlU4fVZHSsdS"
      },
      "source": [
        "Next we compile the model. We use adam as our optimizer. Since the classes are mutually exclusive we select the binary_crossentropy as our loss function and we want to monitor the accuracy during training.\n",
        "\n",
        "We also print a summary of our network telling us the data shapes throught the network and sumarizing the number of trainable parameters in our model."
      ]
    },
    {
      "cell_type": "code",
      "metadata": {
        "id": "OZPCH5WASxLr",
        "outputId": "bebe5c03-d4b9-4218-9ae9-eb1c1c99bcbb",
        "colab": {
          "base_uri": "https://localhost:8080/"
        }
      },
      "source": [
        "# compile ----------------------------------------------------------------------\n",
        "model.compile(optimizer='adam',\n",
        "              loss='categorical_crossentropy',\n",
        "              metrics=['accuracy'])\n",
        "\n",
        "# print model summary ----------------------------------------------------------\n",
        "model.summary()\n",
        "\n"
      ],
      "execution_count": 11,
      "outputs": [
        {
          "output_type": "stream",
          "name": "stdout",
          "text": [
            "Model: \"sequential\"\n",
            "_________________________________________________________________\n",
            " Layer (type)                Output Shape              Param #   \n",
            "=================================================================\n",
            " conv1d (Conv1D)             (None, 200, 10)           210       \n",
            "                                                                 \n",
            " max_pooling1d (MaxPooling1  (None, 40, 10)            0         \n",
            " D)                                                              \n",
            "                                                                 \n",
            " flatten (Flatten)           (None, 400)               0         \n",
            "                                                                 \n",
            " dense (Dense)               (None, 4)                 1604      \n",
            "                                                                 \n",
            "=================================================================\n",
            "Total params: 1814 (7.09 KB)\n",
            "Trainable params: 1814 (7.09 KB)\n",
            "Non-trainable params: 0 (0.00 Byte)\n",
            "_________________________________________________________________\n"
          ]
        }
      ]
    },
    {
      "cell_type": "markdown",
      "metadata": {
        "id": "PO8y82o2TFX9"
      },
      "source": [
        "## Training\n",
        "\n",
        "Now that we have our model set up we can train it. We feed the model with our training sequences and labels, we define a batch size (since we are training in batch mode) and set the number of epochs (cycles through the training data) we want to train for. Five epochs should be fine for us feel free to ramp this up a bit and see if you get improvements or if the learning plateus quickly."
      ]
    },
    {
      "cell_type": "code",
      "metadata": {
        "id": "MhvQukq1TPXU",
        "outputId": "96b859ef-3598-4821-fa21-3f04d796c23d",
        "colab": {
          "base_uri": "https://localhost:8080/"
        }
      },
      "source": [
        "# Training Options\n",
        "batch_size = 100\n",
        "epochs = 5\n",
        "\n",
        "# Train ------------------------------------------------------------------------\n",
        "history = model.fit(train_seqs, train_labels,\n",
        "          batch_size=batch_size,\n",
        "          epochs=epochs,\n",
        "          verbose=1,\n",
        "          validation_data=(valid_seqs, valid_labels))"
      ],
      "execution_count": 15,
      "outputs": [
        {
          "output_type": "stream",
          "name": "stdout",
          "text": [
            "Epoch 1/5\n",
            "380/380 [==============================] - 5s 14ms/step - loss: 0.3554 - accuracy: 0.8620 - val_loss: 0.3393 - val_accuracy: 0.8640\n",
            "Epoch 2/5\n",
            "380/380 [==============================] - 4s 11ms/step - loss: 0.2985 - accuracy: 0.8844 - val_loss: 0.2909 - val_accuracy: 0.8820\n",
            "Epoch 3/5\n",
            "380/380 [==============================] - 4s 11ms/step - loss: 0.2583 - accuracy: 0.8991 - val_loss: 0.2557 - val_accuracy: 0.8940\n",
            "Epoch 4/5\n",
            "380/380 [==============================] - 5s 13ms/step - loss: 0.2315 - accuracy: 0.9087 - val_loss: 0.2429 - val_accuracy: 0.8900\n",
            "Epoch 5/5\n",
            "380/380 [==============================] - 4s 10ms/step - loss: 0.2104 - accuracy: 0.9185 - val_loss: 0.2179 - val_accuracy: 0.9110\n"
          ]
        }
      ]
    },
    {
      "cell_type": "markdown",
      "metadata": {
        "id": "srhT4-NcTWzz"
      },
      "source": [
        "You will notice that we stored the training output in a **history** variable. We can use this variable to monitor the loss function and accuracy over the training progress."
      ]
    },
    {
      "cell_type": "code",
      "metadata": {
        "id": "aBkXtzyoTXCI",
        "outputId": "edb6fc75-04cf-4999-a7d6-a7cb60137d27",
        "colab": {
          "base_uri": "https://localhost:8080/",
          "height": 410
        }
      },
      "source": [
        "# Plot Training and Validation Loss ------------------------------\n",
        "plt.figure(figsize=(10, 4))\n",
        "plt.subplot(1, 2, 1)\n",
        "plt.plot(history.history['loss'])\n",
        "plt.plot(history.history['val_loss'])\n",
        "plt.title('model loss')\n",
        "plt.ylabel('loss')\n",
        "plt.xlabel('epoch')\n",
        "plt.legend(['train', 'validation'])\n",
        "plt.subplot(1, 2, 2)\n",
        "# Plot Training and Validation Accuracy ------------------------------\n",
        "plt.plot(history.history['accuracy'])\n",
        "plt.plot(history.history['val_accuracy'])\n",
        "plt.title('model accuracy')\n",
        "plt.ylabel('accuracy')\n",
        "plt.xlabel('epoch')\n",
        "plt.legend(['train', 'validation'])\n",
        "plt.show()"
      ],
      "execution_count": 21,
      "outputs": [
        {
          "output_type": "display_data",
          "data": {
            "text/plain": [
              "<Figure size 1000x400 with 2 Axes>"
            ],
            "image/png": "[encoded data removed]"
          },
          "metadata": {}
        }
      ]
    },
    {
      "cell_type": "markdown",
      "metadata": {
        "id": "J3sAKG3hV_CQ"
      },
      "source": [
        "Looks alright, the training as well as the validation accuracy is climbing from epoch to epoch and slows down a little more after every epoch. It is now your task to find better hyperparameters for our network and training procedure to see how high up you can get the accuracy. For doing that, I suggest taking dl_intro.py, commenting out all the code after the training, adjust your hyperparameters and/or network architectures how you like and running it in the terminal via python dl_intro.py.\n",
        "\n",
        "Tipps:\n",
        "\n",
        "* Should we train longer?\n",
        "* Do we need more hidden layers?\n",
        "* Could we max pool over the entire sequence to get one output per filter?\n",
        "* Would a second layer be beneficial?\n",
        "* You could also bias the network architechture with some biological knowledge: How long are transcription factor binding motifs in general and what would be an appropriate filter_width then?\n",
        "\n",
        "(Hint: you can do pretty well in 5 - 10 epochs with minor tweaks!)\n"
      ]
    },
    {
      "cell_type": "markdown",
      "metadata": {
        "id": "Pl7Z7qITWNoP"
      },
      "source": [
        "Evaluation and Prediction\n",
        "\n",
        "Once you are happy with you network performance or in case you want to jump ahead first and optimize later, we will evaluate our network on the held out validation data. Technically, we only optimized on the training data set but we always kept an eye on the validation data loss as well. We are discarding all nets that do well on the training but worse at the validation (overfitted), therefore we always have an intrinsic bias. The test data set is meant to have never been touched throughout the whole optimization process and we evaluate the perormance of our final model on this set to get an unbiased estimate of its performance."
      ]
    },
    {
      "cell_type": "code",
      "metadata": {
        "id": "LKJCMoPPWdkq",
        "outputId": "aefbe5cb-f518-44a9-ea12-fff6d21e2d5a",
        "colab": {
          "base_uri": "https://localhost:8080/",
          "height": 52
        }
      },
      "source": [
        "# Evaluate ---------------------------------------------------------------------\n",
        "test_file = \"./data/pwm_seq_200bp_test_set.txt\"\n",
        "test_labels, test_seqs = read_data(test_file)\n",
        "score = model.evaluate(test_seqs, test_labels, verbose=0)\n",
        "print('Test loss:', score[0])\n",
        "print('Test accuracy:', score[1])"
      ],
      "execution_count": null,
      "outputs": [
        {
          "output_type": "stream",
          "text": [
            "Test loss: 0.3826813440322876\n",
            "Test accuracy: 0.847\n"
          ],
          "name": "stdout"
        }
      ]
    },
    {
      "cell_type": "markdown",
      "metadata": {
        "id": "HI7MBOL9Wfek"
      },
      "source": [
        "\n",
        "\n",
        "Once we are happy with our network we obviously want to employ it as well. Lets say we have a new sequence we want to classify.\n"
      ]
    },
    {
      "cell_type": "code",
      "metadata": {
        "id": "Aq185u3_Wiar",
        "outputId": "8a3b4175-f647-44ac-9136-ca4cd6dd725e",
        "colab": {
          "base_uri": "https://localhost:8080/",
          "height": 173
        }
      },
      "source": [
        "# Predictions ------------------------------------------------------------------\n",
        "# read test sequences again\n",
        "with open(test_file, \"r\") as f:\n",
        "    seqs = []\n",
        "    labels = []\n",
        "    for i,l in enumerate(f):\n",
        "        l = l.rstrip()\n",
        "        l = l.split(\"\\t\")\n",
        "        seqs.append(l[1])\n",
        "        labels.append(l[0])\n",
        "\n",
        "# select a single sequence\n",
        "single_seq = seqs[0]\n",
        "single_label = labels[0]\n",
        "\n",
        "print(\"Sequence: \" + single_seq)\n",
        "\n",
        "# hot encode\n",
        "hotseq = get_hot_coded_seq(single_seq)\n",
        "\n",
        "# calculate predictions\n",
        "single_prediction = model.predict(np.expand_dims(hotseq, axis=0))\n",
        "print(\"\\nClass Prediction \\\"Probability\\\":\")\n",
        "print(\"\\tClass 0 = %s\" % single_prediction[0][0])\n",
        "print(\"\\tClass 1 = %s\" % single_prediction[0][1])\n",
        "print(\"\\tClass 2 = %s\" % single_prediction[0][2])\n",
        "print(\"\\tClass 3 = %s\" % single_prediction[0][3])\n",
        "\n",
        "# print the true class\n",
        "print(\"\\nTrue Class: \" + single_label)\n"
      ],
      "execution_count": null,
      "outputs": [
        {
          "output_type": "stream",
          "text": [
            "Sequence: ATGGCTGATAATGACGATTGTACAGATGGTGGATGAGATTGCCTCGTCCCGGCAGCATTACCCCCTGGTGGCAACGGCCACCAGGGGGCAATAAATCTGTGTCTTATCTCCGAGACCAAACAATTCCACAGCCTCTTATACAGCACCGAATGGACCGCCCCCTGGTGGCCAGGTATCGTCGAGGGCTCAATTAAACTCCT\n",
            "\n",
            "Class Prediction \"Probability\":\n",
            "\tClass 0 = 2.8729322e-05\n",
            "\tClass 1 = 0.0037810686\n",
            "\tClass 2 = 0.034345713\n",
            "\tClass 3 = 0.96184444\n",
            "\n",
            "True Class: 3\n"
          ],
          "name": "stdout"
        }
      ]
    },
    {
      "cell_type": "code",
      "metadata": {
        "id": "R8QUuQ7hWzSG",
        "outputId": "84fa342a-3010-4cd5-f039-cc4e482e39b1",
        "colab": {
          "base_uri": "https://localhost:8080/",
          "height": 86
        }
      },
      "source": [
        "# or just run all predictions for\n",
        "all_test_predictions = model.predict(test_seqs)\n",
        "print(all_test_predictions.shape)\n",
        "print(all_test_predictions[5:8])"
      ],
      "execution_count": null,
      "outputs": [
        {
          "output_type": "stream",
          "text": [
            "(1000, 4)\n",
            "[[2.0259339e-04 4.4085991e-02 4.9523282e-01 4.6047854e-01]\n",
            " [2.4785337e-05 8.4876185e-03 3.3676609e-01 6.5472156e-01]\n",
            " [5.9616971e-01 4.0373576e-01 5.2598742e-05 4.1942374e-05]]\n"
          ],
          "name": "stdout"
        }
      ]
    },
    {
      "cell_type": "markdown",
      "metadata": {
        "id": "SmsbE-BWXbcN"
      },
      "source": [
        "\n",
        "##Inspecting Learned Filters\n",
        "\n",
        "Now that we have a reasonably working model, we also want to inspect and see what the net has learned. In applications, we often don't care what the network has learned as long as it performs well and outperforms our competitors. For many research problems however, we are exactly interested in what the network has learned. What features distinguish a cat from a dog or if it comes to decision making (e.g. health care or self driving cars), we obviously want to be able to understand and be able to justify why a certain decision has been chosen and learn how to correct missbehavior.\n",
        "\n",
        "In genomics we usually want to learn what sequence features distinguish the sequences from one another and map them back to biological properties and factors. The easiest way is to just plot the filter weights. In the first convolutional layer, our filters are just like position weight matrices, multiplying every base at every position with a learned weight and summing the value up (plus a bias and pipe it through the RELU activation function). Unfortunatly, this becomes less straight forward to interpret in deeper layers. There are ways of back engineering and learning the importance of filters in higher layers (e.g. https://github.com/kundajelab/deeplift) but we concern ourself only with the simple first layer here.\n",
        "\n",
        "We can get the weigths of the filters from the model, save them as .txt files and plot them out. I wrote a wrapper to plot the filter weigths for you in R. Run the code, check the filter_X.txt files and look at the plots and try to interpret them. In Colab runs you probaly want to download them.\n",
        "\n",
        "* Do any look like transciption factor binding sites you know?\n",
        "* Do you recognize any sequence features that are not binding motifs?\n",
        "* Can you simplify the sequences/ motifs from the plot an query them in a transcription factor binding motif database (http://jaspar.genereg.net/)\n",
        "* What is your best bet: Which sequence motifs did we use for simulating the sequence classes?\n",
        "* Check the input data. Split them up by class into text files with only the sequences one sequence per line (see example). Query them in standard motif analysis tools (e.g. http://rsat.sb-roscoff.fr/oligo-analysis_form.cgi or http://meme-suite.org/tools/meme). Do these tools find different or similar things?\n"
      ]
    },
    {
      "cell_type": "code",
      "metadata": {
        "id": "ncB7-8g-Ybu3"
      },
      "source": [
        "# Inspect weights --------------------------------------------------------------\n",
        "model_weights = model.get_weights()\n",
        "filter_weights = model_weights[0]\n",
        "\n",
        "# save conv filter weights\n",
        "for k in range(model_weights[0].shape[2]):\n",
        "    # save single filter weights\n",
        "    np.savetxt((\"./visualize/filter_%s.txt\" % k), filter_weights[:,:,k], delimiter=\"\\t\")"
      ],
      "execution_count": null,
      "outputs": []
    },
    {
      "cell_type": "code",
      "metadata": {
        "id": "fhlssg9kaIiy",
        "outputId": "2df597d7-59c3-4fe4-ca77-4cdb37dcaf39",
        "colab": {
          "base_uri": "https://localhost:8080/",
          "height": 243
        }
      },
      "source": [
        "%%bash\n",
        "\n",
        "# Plot them using the supplied R script\n",
        "Rscript ./helper/plot_sequence_kernel_weights_per_dir.R ./visualize ./visualize plot_weight 5 2.5"
      ],
      "execution_count": null,
      "outputs": [
        {
          "output_type": "stream",
          "text": [
            " [1] \"filter_0.txt\" \"filter_1.txt\" \"filter_2.txt\" \"filter_3.txt\" \"filter_4.txt\"\n",
            " [6] \"filter_5.txt\" \"filter_6.txt\" \"filter_7.txt\" \"filter_8.txt\" \"filter_9.txt\"\n",
            "[1] \"Saving Plot filter_0.png\"\n",
            "[1] \"Saving Plot filter_1.png\"\n",
            "[1] \"Saving Plot filter_2.png\"\n",
            "[1] \"Saving Plot filter_3.png\"\n",
            "[1] \"Saving Plot filter_4.png\"\n",
            "[1] \"Saving Plot filter_5.png\"\n",
            "[1] \"Saving Plot filter_6.png\"\n",
            "[1] \"Saving Plot filter_7.png\"\n",
            "[1] \"Saving Plot filter_8.png\"\n",
            "[1] \"Saving Plot filter_9.png\"\n",
            "[1] \"Passing: 10  Skipped: 0\"\n"
          ],
          "name": "stdout"
        }
      ]
    },
    {
      "cell_type": "markdown",
      "metadata": {
        "id": "M8QJwyRZa7NJ"
      },
      "source": [
        "Now thay don't look the nice motifs with information content we are used to look at from ChIP-seq analysis and such. Our filters have positive and negative values all contributing to the \"matching score\" of a filter at a given position. In contrast, information content motifs don't have negative values just less informative bases that occur less often in a, let's say, binding site. Luckily there is a [transformation](https://www.biorxiv.org/content/10.1101/163220v2) we can apply to the filter weights to derive information content. For our purposes her just use the helper script that implements the transformation."
      ]
    },
    {
      "cell_type": "code",
      "metadata": {
        "id": "VdQK0t8vbsJn",
        "outputId": "3ed85baf-13aa-43c4-b908-36c6beb12a56",
        "colab": {
          "base_uri": "https://localhost:8080/",
          "height": 243
        }
      },
      "source": [
        "%%bash\n",
        "\n",
        "# Plot ICM like motifs using the supplied R script\n",
        "Rscript ./helper/plot_sequence_kernel_icms_per_dir.R ./visualize ./visualize plot_motif 5 2.5"
      ],
      "execution_count": null,
      "outputs": [
        {
          "output_type": "stream",
          "text": [
            " [1] \"filter_0.txt\" \"filter_1.txt\" \"filter_2.txt\" \"filter_3.txt\" \"filter_4.txt\"\n",
            " [6] \"filter_5.txt\" \"filter_6.txt\" \"filter_7.txt\" \"filter_8.txt\" \"filter_9.txt\"\n",
            "[1] \"Saving Plot filter_0.png\"\n",
            "[1] \"Saving Plot filter_1.png\"\n",
            "[1] \"Saving Plot filter_2.png\"\n",
            "[1] \"Saving Plot filter_3.png\"\n",
            "[1] \"Saving Plot filter_4.png\"\n",
            "[1] \"Saving Plot filter_5.png\"\n",
            "[1] \"Saving Plot filter_6.png\"\n",
            "[1] \"Saving Plot filter_7.png\"\n",
            "[1] \"Saving Plot filter_8.png\"\n",
            "[1] \"Saving Plot filter_9.png\"\n",
            "[1] \"Passing: 10  Skipped: 0\"\n"
          ],
          "name": "stdout"
        }
      ]
    },
    {
      "cell_type": "markdown",
      "metadata": {
        "id": "IIPoJryvdiwa"
      },
      "source": [
        "A little wrapper to zip all plots and filter weigths into a tar.gz. Gownload them from the files menu."
      ]
    },
    {
      "cell_type": "code",
      "metadata": {
        "id": "eQC9DTgZdi8N",
        "outputId": "a93d3064-4326-4e3e-e102-b6b6718a7de7",
        "colab": {
          "base_uri": "https://localhost:8080/",
          "height": 555
        }
      },
      "source": [
        "%%bash\n",
        "\n",
        "tar czvf visualize.tar.gz ./visualize"
      ],
      "execution_count": null,
      "outputs": [
        {
          "output_type": "stream",
          "text": [
            "./visualize/\n",
            "./visualize/plot_motif_filter_5.png\n",
            "./visualize/filter_6.txt\n",
            "./visualize/plot_motif_filter_0.png\n",
            "./visualize/plot_weight_filter_1.png\n",
            "./visualize/filter_8.txt\n",
            "./visualize/plot_motif_filter_9.png\n",
            "./visualize/filter_2.txt\n",
            "./visualize/filter_3.txt\n",
            "./visualize/plot_weight_filter_2.png\n",
            "./visualize/filter_0.txt\n",
            "./visualize/plot_weight_filter_9.png\n",
            "./visualize/plot_weight_filter_7.png\n",
            "./visualize/plot_weight_filter_3.png\n",
            "./visualize/plot_motif_filter_2.png\n",
            "./visualize/plot_motif_filter_6.png\n",
            "./visualize/filter_1.txt\n",
            "./visualize/filter_7.txt\n",
            "./visualize/plot_motif_filter_7.png\n",
            "./visualize/filter_5.txt\n",
            "./visualize/plot_weight_filter_4.png\n",
            "./visualize/filter_9.txt\n",
            "./visualize/plot_motif_filter_4.png\n",
            "./visualize/plot_weight_filter_0.png\n",
            "./visualize/filter_4.txt\n",
            "./visualize/plot_motif_filter_3.png\n",
            "./visualize/plot_weight_filter_6.png\n",
            "./visualize/plot_weight_filter_8.png\n",
            "./visualize/plot_weight_filter_5.png\n",
            "./visualize/plot_motif_filter_1.png\n",
            "./visualize/plot_motif_filter_8.png\n"
          ],
          "name": "stdout"
        }
      ]
    },
    {
      "cell_type": "markdown",
      "metadata": {
        "id": "T6-X-0dZc6IQ"
      },
      "source": [
        "## Visualize Importance\n",
        "\n",
        "A popular approach to visualize and start to interpret the importance of sequence features is the so called **Saliency**. This term has been introduced to descripe the gradient of the model output with respect to a sequence input. In other words, how much would the prediction change if we were to change a single base pair. Here change mean changing the *1* in the hot encoding to a marginally different value e.g. *1.00001*.\n",
        "\n",
        "\n",
        "I nicked this function and visualization was adapted from the James Zhou's [Primer on Genomics](https://colab.research.google.com/drive/17E4h5aAOioh5DiTo7MZg4hpL6Z_0FyWr#scrollTo=WNT_Au-dAP8a) colab notebook. Check it out and the paper is worth a read.\n",
        "\n",
        "\n",
        "In summary, what we are doing here is calculating the gradient of the model ouput with respect to a single sequence input. We then multiply this gradient with the one hot endoded sequence, effectively zeroing all non present bases, and then sum this over the 4 output classes and trim everything below zero (for pure ease of visualization)."
      ]
    },
    {
      "cell_type": "code",
      "metadata": {
        "id": "6ocZEt_2eZcw"
      },
      "source": [
        "import tensorflow.keras.backend as K\n",
        "\n",
        "def compute_salient_bases(model, x):\n",
        "\n",
        "  input_tensors = [model.input]\n",
        "  gradients = model.optimizer.get_gradients(model.output, model.input)\n",
        "  compute_gradients = K.function(inputs = input_tensors, outputs = gradients)\n",
        "\n",
        "  gradients = compute_gradients([x])[0][0]\n",
        "  x = np.squeeze(x, axis = 0)\n",
        "  sal = np.clip(np.sum(np.multiply(gradients,x), axis=1),a_min=0, a_max=None)\n",
        "\n",
        "  return sal"
      ],
      "execution_count": null,
      "outputs": []
    },
    {
      "cell_type": "code",
      "metadata": {
        "id": "vg5oB0RdgzgS",
        "outputId": "0aaf1f87-1319-46d3-aeae-ba0266252cb6",
        "colab": {
          "base_uri": "https://localhost:8080/",
          "height": 52
        }
      },
      "source": [
        "# use a single sequence again (index 1 works well)\n",
        "selected_index = 1\n",
        "\n",
        "single_seq = seqs[selected_index]\n",
        "\n",
        "# hot encode\n",
        "hotseq = get_hot_coded_seq(single_seq)\n",
        "\n",
        "hotseq = np.expand_dims(hotseq, axis=0)\n",
        "\n",
        "# calculate predictions\n",
        "single_prediction = model.predict(hotseq)\n",
        "\n",
        "print(\"Prediction: %s\" % single_prediction)\n",
        "\n",
        "print(\"True Label: %s\" % labels[selected_index])\n"
      ],
      "execution_count": null,
      "outputs": [
        {
          "output_type": "stream",
          "text": [
            "Prediction: [[5.6772256e-01 4.3193689e-01 2.1812480e-04 1.2235751e-04]]\n",
            "True Label: 1\n"
          ],
          "name": "stdout"
        }
      ]
    },
    {
      "cell_type": "code",
      "metadata": {
        "id": "fTCrGCS6mMKP",
        "outputId": "fb5d63aa-90e5-4360-e97d-78f8bf3df182",
        "colab": {
          "base_uri": "https://localhost:8080/",
          "height": 1000
        }
      },
      "source": [
        "sal = compute_salient_bases(model, hotseq)\n",
        "\n",
        "plt.figure(figsize=[25,3])\n",
        "barlist = plt.bar(np.arange(len(sal)), sal)\n",
        "plt.xlabel('Bases')\n",
        "plt.ylabel('Saliency values')\n",
        "plt.xticks(np.arange(len(sal)), list(single_seq));\n",
        "plt.title('Saliency map for bases in one of the test sequences');"
      ],
      "execution_count": null,
      "outputs": [
        {
          "output_type": "stream",
          "text": [
            "[2.37885889e-09 3.62792640e-09 0.00000000e+00 0.00000000e+00\n",
            " 0.00000000e+00 1.23124511e-09 0.00000000e+00 2.74632606e-09\n",
            " 0.00000000e+00 0.00000000e+00 0.00000000e+00 8.54737836e-10\n",
            " 0.00000000e+00 6.25662455e-09 1.09956044e-09 0.00000000e+00\n",
            " 0.00000000e+00 0.00000000e+00 0.00000000e+00 0.00000000e+00\n",
            " 0.00000000e+00 0.00000000e+00 4.04498879e-09 0.00000000e+00\n",
            " 4.99761477e-09 0.00000000e+00 0.00000000e+00 3.69327302e-09\n",
            " 1.04785229e-08 1.14255245e-08 9.90976545e-09 0.00000000e+00\n",
            " 5.90284177e-09 0.00000000e+00 3.32863714e-09 1.41415635e-09\n",
            " 0.00000000e+00 6.71260425e-09 0.00000000e+00 0.00000000e+00\n",
            " 0.00000000e+00 2.42397102e-10 4.10047996e-09 9.52395829e-10\n",
            " 1.02856301e-09 0.00000000e+00 4.85603158e-09 0.00000000e+00\n",
            " 0.00000000e+00 0.00000000e+00 2.64236022e-10 3.02113357e-09\n",
            " 1.95228722e-10 3.61702246e-09 9.77749082e-09 9.50345758e-09\n",
            " 1.30148177e-08 9.48953627e-09 4.88826624e-09 2.78966872e-09\n",
            " 3.87633259e-09 3.67074304e-09 2.51256793e-09 9.52419699e-10\n",
            " 0.00000000e+00 0.00000000e+00 0.00000000e+00 0.00000000e+00\n",
            " 1.05173426e-08 1.23401396e-08 1.46106673e-08 8.94580676e-09\n",
            " 0.00000000e+00 1.81175408e-09 0.00000000e+00 0.00000000e+00\n",
            " 2.40900667e-11 0.00000000e+00 1.42412637e-09 4.60309524e-09\n",
            " 0.00000000e+00 0.00000000e+00 0.00000000e+00 1.60297242e-09\n",
            " 0.00000000e+00 0.00000000e+00 0.00000000e+00 2.05615791e-09\n",
            " 6.81202916e-09 1.41157743e-08 1.15239374e-08 6.86984292e-09\n",
            " 5.76053072e-09 0.00000000e+00 2.73331802e-09 5.36137135e-10\n",
            " 0.00000000e+00 0.00000000e+00 7.89140930e-09 0.00000000e+00\n",
            " 6.88873270e-09 0.00000000e+00 6.32130970e-09 0.00000000e+00\n",
            " 0.00000000e+00 4.93858199e-09 1.17518644e-08 0.00000000e+00\n",
            " 0.00000000e+00 0.00000000e+00 0.00000000e+00 0.00000000e+00\n",
            " 5.50205437e-09 0.00000000e+00 6.10026341e-09 8.24432256e-09\n",
            " 0.00000000e+00 4.58746863e-09 0.00000000e+00 0.00000000e+00\n",
            " 3.87973520e-09 7.14130621e-09 4.68950567e-09 3.75464770e-09\n",
            " 5.12408649e-09 5.97827676e-10 3.65939545e-09 2.49821097e-09\n",
            " 4.23281410e-09 1.18463026e-08 8.69760619e-09 8.42790016e-09\n",
            " 6.73295064e-09 2.96269231e-09 2.42858023e-09 0.00000000e+00\n",
            " 0.00000000e+00 5.38845635e-09 0.00000000e+00 0.00000000e+00\n",
            " 0.00000000e+00 4.00627531e-09 0.00000000e+00 2.54793076e-10\n",
            " 4.81084728e-09 0.00000000e+00 5.02164532e-09 0.00000000e+00\n",
            " 0.00000000e+00 5.84688387e-09 0.00000000e+00 0.00000000e+00\n",
            " 4.34124958e-09 1.26892354e-08 9.91361215e-09 8.37160119e-09\n",
            " 3.96661770e-09 6.12862205e-09 5.99745809e-09 1.09421077e-08\n",
            " 1.06308295e-08 9.67529612e-09 0.00000000e+00 0.00000000e+00\n",
            " 0.00000000e+00 0.00000000e+00 4.26359970e-09 8.00624100e-09\n",
            " 8.88049101e-09 1.24153976e-08 8.97447716e-09 4.04166745e-09\n",
            " 7.89769405e-09 4.87801088e-09 1.63641944e-09 0.00000000e+00\n",
            " 0.00000000e+00 3.35296613e-09 0.00000000e+00 0.00000000e+00\n",
            " 0.00000000e+00 0.00000000e+00 0.00000000e+00 0.00000000e+00\n",
            " 0.00000000e+00 2.63893907e-10 0.00000000e+00 5.59090552e-09\n",
            " 7.86544962e-09 0.00000000e+00 1.35824885e-09 0.00000000e+00\n",
            " 0.00000000e+00 0.00000000e+00 1.06601039e-09 0.00000000e+00\n",
            " 0.00000000e+00 0.00000000e+00 1.57612479e-10 6.01731720e-10]\n"
          ],
          "name": "stdout"
        },
        {
          "output_type": "display_data",
          "data": {
            "image/png": "[encoded data removed]",
            "text/plain": [
              "<Figure size 1800x216 with 1 Axes>"
            ]
          },
          "metadata": {
            "tags": []
          }
        }
      ]
    },
    {
      "cell_type": "markdown",
      "metadata": {
        "id": "NKqSNnuhXkg4"
      },
      "source": [
        "## Further\n",
        "\n",
        "On the github page you wild find links to a slightly more difficult set, using more motifs and 300 bp sequences.\n",
        "You can adapt the notebook to run on those.\n"
      ]
    }
  ]
}